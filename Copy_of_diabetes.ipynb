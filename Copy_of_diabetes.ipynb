{
  "nbformat": 4,
  "nbformat_minor": 0,
  "metadata": {
    "colab": {
      "name": "Copy of diabetes.ipynb",
      "provenance": []
    },
    "kernelspec": {
      "name": "python3",
      "display_name": "Python 3"
    },
    "language_info": {
      "name": "python"
    }
  },
  "cells": [
    {
      "cell_type": "markdown",
      "metadata": {
        "id": "TSTgl69VRri4"
      },
      "source": [
        "**Prediction of Diabetes using Machine Learning**"
      ]
    },
    {
      "cell_type": "code",
      "metadata": {
        "id": "msuNMKIgQkVk"
      },
      "source": [
        "# Importing all modules\n",
        "import numpy as np\n",
        "import pandas as pd\n",
        "import matplotlib.pyplot as plt\n",
        "from sklearn import datasets,linear_model\n",
        "from sklearn.metrics import  mean_squared_error"
      ],
      "execution_count": null,
      "outputs": []
    },
    {
      "cell_type": "code",
      "metadata": {
        "colab": {
          "base_uri": "https://localhost:8080/"
        },
        "id": "8nA46yQgSY9z",
        "outputId": "83b0a437-6e49-403a-ce68-613645f81ed5"
      },
      "source": [
        "# Declare Variable\n",
        "diabetes_dataset=datasets.load_diabetes()\n",
        "dir(diabetes_dataset)"
      ],
      "execution_count": null,
      "outputs": [
        {
          "output_type": "execute_result",
          "data": {
            "text/plain": [
              "['DESCR',\n",
              " 'data',\n",
              " 'data_filename',\n",
              " 'feature_names',\n",
              " 'target',\n",
              " 'target_filename']"
            ]
          },
          "metadata": {
            "tags": []
          },
          "execution_count": 8
        }
      ]
    },
    {
      "cell_type": "code",
      "metadata": {
        "colab": {
          "base_uri": "https://localhost:8080/"
        },
        "id": "JzwhjD_hVqO_",
        "outputId": "660ec26a-701c-4552-ccc0-b066801408fe"
      },
      "source": [
        "# Read DESCR of diabetes module\n",
        "diabetes_description=diabetes_dataset.DESCR\n",
        "\n",
        "# Check dataset of diabetes\n",
        "diabetes_dataset.data"
      ],
      "execution_count": null,
      "outputs": [
        {
          "output_type": "execute_result",
          "data": {
            "text/plain": [
              "array([[ 0.03807591,  0.05068012,  0.06169621, ..., -0.00259226,\n",
              "         0.01990842, -0.01764613],\n",
              "       [-0.00188202, -0.04464164, -0.05147406, ..., -0.03949338,\n",
              "        -0.06832974, -0.09220405],\n",
              "       [ 0.08529891,  0.05068012,  0.04445121, ..., -0.00259226,\n",
              "         0.00286377, -0.02593034],\n",
              "       ...,\n",
              "       [ 0.04170844,  0.05068012, -0.01590626, ..., -0.01107952,\n",
              "        -0.04687948,  0.01549073],\n",
              "       [-0.04547248, -0.04464164,  0.03906215, ...,  0.02655962,\n",
              "         0.04452837, -0.02593034],\n",
              "       [-0.04547248, -0.04464164, -0.0730303 , ..., -0.03949338,\n",
              "        -0.00421986,  0.00306441]])"
            ]
          },
          "metadata": {
            "tags": []
          },
          "execution_count": 9
        }
      ]
    },
    {
      "cell_type": "code",
      "metadata": {
        "colab": {
          "base_uri": "https://localhost:8080/"
        },
        "id": "U1mmPBXma3Ph",
        "outputId": "0c1d1641-3e6e-41d4-d363-198da555c285"
      },
      "source": [
        "# Assign Dataset\n",
        "diabetes = datasets.load_diabetes()\n",
        "\n",
        "# BMI column\n",
        "diabetes_X = diabetes.data[:, np.newaxis, 2] \n",
        "diabetes_X[:7]\n",
        "\n",
        "# Data set can be found here -> https://web.stanford.edu/~hastie/Papers/LARS/data64.txt"
      ],
      "execution_count": null,
      "outputs": [
        {
          "output_type": "execute_result",
          "data": {
            "text/plain": [
              "array([[ 0.06169621],\n",
              "       [-0.05147406],\n",
              "       [ 0.04445121],\n",
              "       [-0.01159501],\n",
              "       [-0.03638469],\n",
              "       [-0.04069594],\n",
              "       [-0.04716281]])"
            ]
          },
          "metadata": {
            "tags": []
          },
          "execution_count": 10
        }
      ]
    },
    {
      "cell_type": "code",
      "metadata": {
        "id": "UekG6EatcI-y"
      },
      "source": [
        "# Split data for train & test\n",
        "diabetes_X_train  = diabetes_X[:-300]\n",
        "diabetes_X_test = diabetes_X[-300:]\n",
        "\n",
        "diabetes_y_train  = diabetes.target[:-300]\n",
        "diabetes_y_test = diabetes.target[-300:]"
      ],
      "execution_count": null,
      "outputs": []
    },
    {
      "cell_type": "markdown",
      "metadata": {
        "id": "eR0mKpu4iayP"
      },
      "source": [
        "**Create Model**"
      ]
    },
    {
      "cell_type": "code",
      "metadata": {
        "colab": {
          "base_uri": "https://localhost:8080/",
          "height": 317
        },
        "id": "m2v6laDMgJMp",
        "outputId": "7af85172-9a36-4646-8e42-2a1c76962428"
      },
      "source": [
        "model = linear_model.LinearRegression()\n",
        "model.fit(diabetes_X_train, diabetes_y_train)\n",
        "diabetes_y_predicted= model.predict(diabetes_X_test)\n",
        "\n",
        "print(mean_squared_error(diabetes_y_test,diabetes_y_predicted))\n",
        "print(model.coef_)\n",
        "print(model.intercept_)\n",
        "\n",
        "plt.scatter(diabetes_X_test, diabetes_y_test)\n",
        "plt.plot(diabetes_X_test,diabetes_y_predicted)\n",
        "plt.show()"
      ],
      "execution_count": null,
      "outputs": [
        {
          "output_type": "stream",
          "text": [
            "3830.135414666359\n",
            "[925.78414794]\n",
            "150.74977732504254\n"
          ],
          "name": "stdout"
        },
        {
          "output_type": "display_data",
          "data": {
            "image/png": "[encoded data removed]",
            "text/plain": [
              "<Figure size 432x288 with 1 Axes>"
            ]
          },
          "metadata": {
            "tags": [],
            "needs_background": "light"
          }
        }
      ]
    }
  ]
}